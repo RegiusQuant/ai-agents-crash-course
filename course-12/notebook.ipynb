{
 "cells": [
  {
   "cell_type": "code",
   "execution_count": 22,
   "id": "1da9e1af",
   "metadata": {},
   "outputs": [],
   "source": [
    "from tool import tool\n",
    "from agent import Agent\n",
    "from crew import Crew"
   ]
  },
  {
   "cell_type": "code",
   "execution_count": 19,
   "id": "03813803",
   "metadata": {},
   "outputs": [
    {
     "name": "stdout",
     "output_type": "stream",
     "text": [
      "--------------------------------------------------\n",
      "--------------------------------------------------\n",
      "Invoking tool multiply with {'a': 8, 'b': 9}\n",
      "--------------------------------------------------\n",
      "\n",
      "\n",
      "--------------------------------------------------\n",
      "Result from multiply: 72\n",
      "--------------------------------------------------\n",
      "\n",
      "--------------------------------------------------\n"
     ]
    },
    {
     "name": "stderr",
     "output_type": "stream",
     "text": [
      "/home/ubuntu/projects/ai-agents-crash-course/.venv/lib/python3.12/site-packages/pydantic/main.py:463: UserWarning: Pydantic serializer warnings:\n",
      "  PydanticSerializationUnexpectedValue(Expected 9 fields but got 6: Expected `Message` - serialized value may not be as expected [input_value=Message(content='<thought...: None}, annotations=[]), input_type=Message])\n",
      "  PydanticSerializationUnexpectedValue(Expected `StreamingChoices` - serialized value may not be as expected [input_value=Choices(finish_reason='st...ider_specific_fields={}), input_type=Choices])\n",
      "  return self.__pydantic_serializer__.to_python(\n",
      "/home/ubuntu/projects/ai-agents-crash-course/.venv/lib/python3.12/site-packages/pydantic/main.py:463: UserWarning: Pydantic serializer warnings:\n",
      "  PydanticSerializationUnexpectedValue(Expected 9 fields but got 6: Expected `Message` - serialized value may not be as expected [input_value=Message(content='<observa...: None}, annotations=[]), input_type=Message])\n",
      "  PydanticSerializationUnexpectedValue(Expected `StreamingChoices` - serialized value may not be as expected [input_value=Choices(finish_reason='st...ider_specific_fields={}), input_type=Choices])\n",
      "  return self.__pydantic_serializer__.to_python(\n"
     ]
    },
    {
     "data": {
      "text/plain": [
       "'The product of 8 and 9 is 72.'"
      ]
     },
     "execution_count": 19,
     "metadata": {},
     "output_type": "execute_result"
    },
    {
     "name": "stderr",
     "output_type": "stream",
     "text": [
      "/home/ubuntu/projects/ai-agents-crash-course/.venv/lib/python3.12/site-packages/pydantic/main.py:463: UserWarning: Pydantic serializer warnings:\n",
      "  PydanticSerializationUnexpectedValue(Expected 9 fields but got 6: Expected `Message` - serialized value may not be as expected [input_value=Message(content='<thought...: None}, annotations=[]), input_type=Message])\n",
      "  PydanticSerializationUnexpectedValue(Expected `StreamingChoices` - serialized value may not be as expected [input_value=Choices(finish_reason='st...ider_specific_fields={}), input_type=Choices])\n",
      "  return self.__pydantic_serializer__.to_python(\n",
      "/home/ubuntu/projects/ai-agents-crash-course/.venv/lib/python3.12/site-packages/pydantic/main.py:463: UserWarning: Pydantic serializer warnings:\n",
      "  PydanticSerializationUnexpectedValue(Expected 9 fields but got 6: Expected `Message` - serialized value may not be as expected [input_value=Message(content='<observa...: None}, annotations=[]), input_type=Message])\n",
      "  PydanticSerializationUnexpectedValue(Expected `StreamingChoices` - serialized value may not be as expected [input_value=Choices(finish_reason='st...ider_specific_fields={}), input_type=Choices])\n",
      "  return self.__pydantic_serializer__.to_python(\n"
     ]
    }
   ],
   "source": [
    "@tool\n",
    "def multiply(a: int, b: int) -> int:\n",
    "    \"\"\"Multiplies two numbers.\"\"\"\n",
    "    return a * b\n",
    "\n",
    "agent = Agent(\n",
    "    name=\"MathAgent\",\n",
    "    backstory=\"You're a math expert who must use the tools provided.\",\n",
    "    task_description=\"Find the product of 8 and 9.\",\n",
    "    expected_output_format=\"A single sentence with the result.\",\n",
    "    tools=[multiply]\n",
    ")\n",
    "\n",
    "agent.run()"
   ]
  },
  {
   "cell_type": "code",
   "execution_count": 23,
   "id": "e69536bb",
   "metadata": {},
   "outputs": [
    {
     "name": "stdout",
     "output_type": "stream",
     "text": [
      "\n",
      "--------------------------------------------------\n",
      "Running agent DoubleAgent\n",
      "--------------------------------------------------\n",
      "\n",
      "--------------------------------------------------\n",
      "--------------------------------------------------\n",
      "Invoking tool double with {'x': 4}\n",
      "--------------------------------------------------\n",
      "\n",
      "\n",
      "--------------------------------------------------\n",
      "Result from double: 8\n",
      "--------------------------------------------------\n",
      "\n",
      "--------------------------------------------------\n",
      "\n",
      "--------------------------------------------------\n",
      "Result from DoubleAgent: 8\n",
      "--------------------------------------------------\n",
      "\n",
      "\n",
      "--------------------------------------------------\n",
      "Running agent SquareAgent\n",
      "--------------------------------------------------\n",
      "\n",
      "--------------------------------------------------\n",
      "--------------------------------------------------\n",
      "Invoking tool square with {'x': 8}\n",
      "--------------------------------------------------\n",
      "\n",
      "\n",
      "--------------------------------------------------\n",
      "Result from square: 64\n",
      "--------------------------------------------------\n",
      "\n",
      "--------------------------------------------------\n",
      "\n",
      "--------------------------------------------------\n",
      "Result from SquareAgent: The square of 8 is 64.\n",
      "--------------------------------------------------\n",
      "\n"
     ]
    }
   ],
   "source": [
    "@tool\n",
    "def double(x: int) -> int:\n",
    "    \"\"\"Doubles a number.\"\"\"\n",
    "    return 2 * x\n",
    "\n",
    "@tool\n",
    "def square(x: int) -> int:\n",
    "    \"\"\"Squares a number.\"\"\"\n",
    "    return x * x\n",
    "\n",
    "with Crew():\n",
    "    a = Agent(\n",
    "        name=\"DoubleAgent\",\n",
    "        backstory=\"You're a math agent\",\n",
    "        task_description=\"Double the number 4\",\n",
    "        tools=[double]\n",
    "    )\n",
    "\n",
    "    b = Agent(\n",
    "        name=\"SquareAgent\",\n",
    "        backstory=\"You're a math agent\",\n",
    "        task_description=\"Now square the result\",\n",
    "        tools=[square]\n",
    "    )\n",
    "\n",
    "    a.precedes(b)\n",
    "\n",
    "    Crew._active.run_all()"
   ]
  },
  {
   "cell_type": "code",
   "execution_count": null,
   "id": "887c8e83",
   "metadata": {},
   "outputs": [],
   "source": []
  }
 ],
 "metadata": {
  "kernelspec": {
   "display_name": ".venv",
   "language": "python",
   "name": "python3"
  },
  "language_info": {
   "codemirror_mode": {
    "name": "ipython",
    "version": 3
   },
   "file_extension": ".py",
   "mimetype": "text/x-python",
   "name": "python",
   "nbconvert_exporter": "python",
   "pygments_lexer": "ipython3",
   "version": "3.12.3"
  }
 },
 "nbformat": 4,
 "nbformat_minor": 5
}
