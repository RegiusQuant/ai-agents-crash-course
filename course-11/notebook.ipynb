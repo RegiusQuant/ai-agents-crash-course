{
 "cells": [
  {
   "cell_type": "code",
   "execution_count": 16,
   "id": "7b83754b",
   "metadata": {},
   "outputs": [],
   "source": [
    "import re\n",
    "\n",
    "import litellm"
   ]
  },
  {
   "cell_type": "code",
   "execution_count": null,
   "id": "53505b91",
   "metadata": {},
   "outputs": [
    {
     "data": {
      "text/plain": [
       "'Agentic AI refers to artificial intelligence systems designed to act autonomously, making decisions and taking actions independently to achieve specific goals or tasks. These systems exhibit a level of \"agency,\" meaning they can perceive their environment, plan actions based on that perception, and execute those actions to influence or interact with the world.\\n\\n### Key Characteristics of Agentic AI:\\n1. **Autonomy**: Agentic AIs operate without requiring constant human intervention. Once tasked, they can function independently to achieve their goals.\\n2. **Goal-Oriented**: These systems are designed to work toward predefined objectives, using their reasoning and problem-solving capabilities to make progress.\\n3. **Adaptability**: They can respond to changes in their environment, adjusting their strategies dynamically to handle new situations or obstacles.\\n4. **Proactive Decision-Making**: Agentic AIs make decisions based on their programming, learned models, or rules, often anticipating and planning for future scenarios.\\n5. **Interaction with the Environment**: They engage with their surroundings, which can involve physical actions (e.g., robots) or digital operations (e.g., software agents).\\n\\n### Examples of Agentic AI:\\n- **Autonomous Vehicles**: Self-driving cars use sensors and AI algorithms to navigate roads, make decisions about speed, and respond to traffic conditions without human input.\\n- **Virtual Personal Assistants**: Advanced AI like Siri, Google Assistant, or Alexa perform tasks proactively, such as setting reminders, sending messages, or recommending actions based on user behavior.\\n- **Game-Playing Bots**: AI agents like AlphaGo or OpenAI\\'s Dota 2 bots strategically make decisions to outperform human players in complex games.\\n- **Industrial Robots**: Autonomous machines that perform manufacturing tasks, detect faults, and optimize production processes without direct control.\\n\\n### Agentic AI vs Non-Agentic AI\\nWhile **Agentic AI** operates autonomously and takes initiative to fulfill tasks, **Non-Agentic AI** refers to systems designed to perform narrowly defined operations under direct human control or instruction. For example, a simple image classification model is non-agentic, as it passively processes and outputs results when given input, without taking any external actions or pursuing goals.\\n\\n### Implications and Concerns\\nThe development of agentic AI holds immense potential for innovation and efficiency across many industries. However, it also raises concerns:\\n- **Ethical Risks**: Ensuring AI actions align with human values and goals is critical.\\n- **Unintended Consequences**: Errors in decision-making or unintended behaviors could result from misaligned goals or unforeseen situations.\\n- **Autonomy vs Control**: Balancing autonomy with the ability for humans to intervene when necessary can be challenging.\\n  \\nIn summary, Agentic AI represents a significant leap in how we design and interact with intelligent systems, as they are capable of exhibiting more initiative and independence than traditional AI systems.'"
      ]
     },
     "execution_count": 4,
     "metadata": {},
     "output_type": "execute_result"
    },
    {
     "name": "stderr",
     "output_type": "stream",
     "text": [
      "/home/ubuntu/projects/ai-agents-crash-course/.venv/lib/python3.12/site-packages/pydantic/main.py:463: UserWarning: Pydantic serializer warnings:\n",
      "  PydanticSerializationUnexpectedValue(Expected 9 fields but got 6: Expected `Message` - serialized value may not be as expected [input_value=Message(content='Agentic ...: None}, annotations=[]), input_type=Message])\n",
      "  PydanticSerializationUnexpectedValue(Expected `StreamingChoices` - serialized value may not be as expected [input_value=Choices(finish_reason='st...ider_specific_fields={}), input_type=Choices])\n",
      "  return self.__pydantic_serializer__.to_python(\n"
     ]
    },
    {
     "name": "stderr",
     "output_type": "stream",
     "text": [
      "/home/ubuntu/projects/ai-agents-crash-course/.venv/lib/python3.12/site-packages/pydantic/main.py:463: UserWarning: Pydantic serializer warnings:\n",
      "  PydanticSerializationUnexpectedValue(Expected 9 fields but got 6: Expected `Message` - serialized value may not be as expected [input_value=Message(content='Your las...: None}, annotations=[]), input_type=Message])\n",
      "  PydanticSerializationUnexpectedValue(Expected `StreamingChoices` - serialized value may not be as expected [input_value=Choices(finish_reason='st...ider_specific_fields={}), input_type=Choices])\n",
      "  return self.__pydantic_serializer__.to_python(\n",
      "/home/ubuntu/projects/ai-agents-crash-course/.venv/lib/python3.12/site-packages/pydantic/main.py:463: UserWarning: Pydantic serializer warnings:\n",
      "  PydanticSerializationUnexpectedValue(Expected 9 fields but got 6: Expected `Message` - serialized value may not be as expected [input_value=Message(content='<Iterati...: None}, annotations=[]), input_type=Message])\n",
      "  PydanticSerializationUnexpectedValue(Expected `StreamingChoices` - serialized value may not be as expected [input_value=Choices(finish_reason='st...ider_specific_fields={}), input_type=Choices])\n",
      "  return self.__pydantic_serializer__.to_python(\n",
      "/home/ubuntu/projects/ai-agents-crash-course/.venv/lib/python3.12/site-packages/pydantic/main.py:463: UserWarning: Pydantic serializer warnings:\n",
      "  PydanticSerializationUnexpectedValue(Expected 9 fields but got 6: Expected `Message` - serialized value may not be as expected [input_value=Message(content='It seems...: None}, annotations=[]), input_type=Message])\n",
      "  PydanticSerializationUnexpectedValue(Expected `StreamingChoices` - serialized value may not be as expected [input_value=Choices(finish_reason='st...ider_specific_fields={}), input_type=Choices])\n",
      "  return self.__pydantic_serializer__.to_python(\n",
      "/home/ubuntu/projects/ai-agents-crash-course/.venv/lib/python3.12/site-packages/pydantic/main.py:463: UserWarning: Pydantic serializer warnings:\n",
      "  PydanticSerializationUnexpectedValue(Expected 9 fields but got 6: Expected `Message` - serialized value may not be as expected [input_value=Message(content='<Iterati...: None}, annotations=[]), input_type=Message])\n",
      "  PydanticSerializationUnexpectedValue(Expected `StreamingChoices` - serialized value may not be as expected [input_value=Choices(finish_reason='st...ider_specific_fields={}), input_type=Choices])\n",
      "  return self.__pydantic_serializer__.to_python(\n",
      "/home/ubuntu/projects/ai-agents-crash-course/.venv/lib/python3.12/site-packages/pydantic/main.py:463: UserWarning: Pydantic serializer warnings:\n",
      "  PydanticSerializationUnexpectedValue(Expected 9 fields but got 6: Expected `Message` - serialized value may not be as expected [input_value=Message(content='<Iterati...: None}, annotations=[]), input_type=Message])\n",
      "  PydanticSerializationUnexpectedValue(Expected `StreamingChoices` - serialized value may not be as expected [input_value=Choices(finish_reason='st...ider_specific_fields={}), input_type=Choices])\n",
      "  return self.__pydantic_serializer__.to_python(\n"
     ]
    }
   ],
   "source": [
    "class MyAgent:\n",
    "\n",
    "    def __init__(self, system = \"\"):\n",
    "        self.system = system\n",
    "        self.messages = []\n",
    "        if self.system:\n",
    "            self.messages.append({\"role\": \"system\", \"content\": system})\n",
    "\n",
    "    def complete(self, message=\"\"):\n",
    "        if message:\n",
    "            self.messages.append({\"role\": \"user\", \"content\": message})\n",
    "        result = self.invoke()\n",
    "        self.messages.append({\"role\": \"assistant\", \"content\": result})\n",
    "        return result\n",
    "\n",
    "    def invoke(self):\n",
    "        response = litellm.completion(model=\"openai/gpt-4o\", messages=self.messages)\n",
    "        return response.choices[0].message.content\n",
    "\n",
    "\n",
    "my_agent = MyAgent(system=\"You are a helpful assistant.\")\n",
    "my_agent.complete(\"What is Agentic AI?\")"
   ]
  },
  {
   "cell_type": "code",
   "execution_count": 5,
   "id": "f10b7ca1",
   "metadata": {},
   "outputs": [
    {
     "data": {
      "text/plain": [
       "'Your last message was: **\"What is Agentic AI?\"** \\n\\nLet me know if I can assist you further! 😊'"
      ]
     },
     "execution_count": 5,
     "metadata": {},
     "output_type": "execute_result"
    }
   ],
   "source": [
    "my_agent.complete(\"What was my last message?\")"
   ]
  },
  {
   "cell_type": "code",
   "execution_count": 10,
   "id": "72ae6e8f",
   "metadata": {},
   "outputs": [
    {
     "data": {
      "text/plain": [
       "'<Iteration 1>\\nPlan:\\n1. Use lookup_population on India.\\n2. Use lookup_population on Japan.\\n3. Use math to add the two populations.\\n</Iteration 1>'"
      ]
     },
     "execution_count": 10,
     "metadata": {},
     "output_type": "execute_result"
    }
   ],
   "source": [
    "system_prompt = \"\"\"\n",
    "You are a smart planning agent.\n",
    "You act in iterations and do JUST ONE thing in a single iteration:\n",
    "\n",
    "1) \"Plan\" to plan the steps needed to answer the question.\n",
    "2) \"Execute\" to execute the planned steps, one step at a time.\n",
    "3) \"Observation\" to get the output of the execution.\n",
    "4) \"Collect\" to just collect the result of all the steps.\n",
    "5) \"Answer\" to answer the user's question using the collected results.\n",
    "\n",
    "So to summarize, to answer a question, you will:\n",
    "- Think through the entire solution first, listing each step clearly before taking an action.\n",
    "- Then execute each step in order by calling one of the available tools.\n",
    "- Collect all the individual results.\n",
    "- Finally, answer the user's question using the collected results.\n",
    "\n",
    "Here are the tools available to you:\n",
    "\n",
    "math:\n",
    "Use this to evaluate math expressions using Python syntax.\n",
    "Example: math: (125000000 + 1400000000)\n",
    "\n",
    "lookup_population:\n",
    "Use this to get the population of a country.\n",
    "Example: lookup_population: Japan\n",
    "\n",
    "You must first output a PLAN and then execute each step, showing the result after each one.\n",
    "At the end, output the FINAL ANSWER.\n",
    "\n",
    "---\n",
    "\n",
    "Here's a sample run for your reference:\n",
    "\n",
    "Question: What is the population of Japan plus the population of India?\n",
    "\n",
    "<Iteration 1>\n",
    "Plan:\n",
    "1. Use lookup_population on Japan.\n",
    "2. Use lookup_population on India.\n",
    "3. Use math to add the two populations.\n",
    "</Iteration 1>\n",
    "\n",
    "<Iteration 2>\n",
    "Execute:\n",
    "Step 1: lookup_population: Japan\n",
    "</Iteration 2>\n",
    "\n",
    "<Iteration 3>\n",
    "Observation: 125000000\n",
    "</Iteration 3>\n",
    "\n",
    "<Iteration 4>\n",
    "Execute:\n",
    "Step 2: lookup_population: India\n",
    "</Iteration 4>\n",
    "\n",
    "<Iteration 5>\n",
    "Observation: 1400000000\n",
    "</Iteration 5>\n",
    "\n",
    "<Iteration 6>\n",
    "Execute:\n",
    "Step 3: math: (125000000 + 1400000000)\n",
    "</Iteration 6>\n",
    "\n",
    "<Iteration 7>\n",
    "Observation: 1525000000\n",
    "</Iteration 7>\n",
    "\n",
    "<Iteration 8>\n",
    "Collect:\n",
    "- Step 1: Japan population: 125000000\n",
    "- Step 2: India population: 1400000000\n",
    "- Step 3: Total population: 1525000000\n",
    "</Iteration 8>\n",
    "\n",
    "You will now have everything you need to answer the question, which you need to output in the next iteration.\n",
    "\n",
    "<Iteration 9>\n",
    "Answer:\n",
    "The total population of Japan and India is approximately 1.525 billion.\n",
    "</Iteration 9>\n",
    "\n",
    "Now begin solving\n",
    "\"\"\".strip()\n",
    "\n",
    "\n",
    "def math(expression: str):\n",
    "    return eval(expression)\n",
    "\n",
    "def lookup_population(country: str):\n",
    "    populations = {\n",
    "        \"India\": 1_400_000_000,\n",
    "        \"Japan\": 125_000_000,\n",
    "        \"United States\": 330_000_000,\n",
    "        \"Brazil\": 210_000_000,\n",
    "        \"Indonesia\": 270_000_000,\n",
    "        \"Mexico\": 126_000_000,\n",
    "        \"Russia\": 145_000_000,\n",
    "        \"United Kingdom\": 67_000_000\n",
    "    }\n",
    "    return populations.get(country, \"Country not found\")\n",
    "\n",
    "\n",
    "my_agent = MyAgent(system=system_prompt)\n",
    "my_agent.complete(\"What is the population of India plus the population of Japan?\")"
   ]
  },
  {
   "cell_type": "code",
   "execution_count": 11,
   "id": "6a4f4c29",
   "metadata": {},
   "outputs": [
    {
     "data": {
      "text/plain": [
       "'<Iteration 2>\\nExecute:\\nStep 1: lookup_population: India\\n</Iteration 2>'"
      ]
     },
     "execution_count": 11,
     "metadata": {},
     "output_type": "execute_result"
    }
   ],
   "source": [
    "my_agent.complete()"
   ]
  },
  {
   "cell_type": "code",
   "execution_count": 12,
   "id": "abba33e1",
   "metadata": {},
   "outputs": [
    {
     "data": {
      "text/plain": [
       "'<Iteration 4>\\nExecute:\\nStep 2: lookup_population: Japan\\n</Iteration 4>'"
      ]
     },
     "execution_count": 12,
     "metadata": {},
     "output_type": "execute_result"
    }
   ],
   "source": [
    "output = lookup_population(\"India\")\n",
    "my_agent.complete(f\"<Iteration 3>\\nObservation: {output}\\n</Iteration 3>\")"
   ]
  },
  {
   "cell_type": "code",
   "execution_count": 13,
   "id": "abbf6040",
   "metadata": {},
   "outputs": [
    {
     "data": {
      "text/plain": [
       "'<Iteration 6>\\nExecute:\\nStep 3: math: (1400000000 + 125000000)\\n</Iteration 6>'"
      ]
     },
     "execution_count": 13,
     "metadata": {},
     "output_type": "execute_result"
    }
   ],
   "source": [
    "output = lookup_population(\"Japan\")\n",
    "my_agent.complete(f\"<Iteration 5>\\nObservation: {output}\\n</Iteration 5>\")"
   ]
  },
  {
   "cell_type": "code",
   "execution_count": 14,
   "id": "52bb3302",
   "metadata": {},
   "outputs": [
    {
     "data": {
      "text/plain": [
       "'<Iteration 8>\\nCollect:\\n- Step 1: India population: 1400000000\\n- Step 2: Japan population: 125000000\\n- Step 3: Total population: 1525000000\\n</Iteration 8>'"
      ]
     },
     "execution_count": 14,
     "metadata": {},
     "output_type": "execute_result"
    }
   ],
   "source": [
    "output = math(\"125000000 + 1400000000\")\n",
    "my_agent.complete(f\"<Iteration 7>\\nObservation: {output}\\n</Iteration 7>\")"
   ]
  },
  {
   "cell_type": "code",
   "execution_count": 15,
   "id": "ef14ce34",
   "metadata": {},
   "outputs": [
    {
     "data": {
      "text/plain": [
       "'<Iteration 9>\\nAnswer:\\nThe total population of India and Japan is approximately 1.525 billion. \\n</Iteration 9>'"
      ]
     },
     "execution_count": 15,
     "metadata": {},
     "output_type": "execute_result"
    }
   ],
   "source": [
    "my_agent.complete()"
   ]
  },
  {
   "cell_type": "code",
   "execution_count": 17,
   "id": "510f6c10",
   "metadata": {},
   "outputs": [
    {
     "name": "stdout",
     "output_type": "stream",
     "text": [
      "<Iteration 1>\n",
      "Plan:\n",
      "1. Use lookup_population on India.\n",
      "2. Use lookup_population on Japan.\n",
      "3. Use math to add the two populations.\n",
      "</Iteration 1>\n",
      "<Iteration 2>\n",
      "Execute:\n",
      "Step 1: lookup_population: India\n",
      "</Iteration 2>\n",
      "<Iteration 3>\n",
      "Execute:\n",
      "Step 2: lookup_population: Japan\n",
      "</Iteration 3>\n",
      "<Iteration 4>\n",
      "Execute:\n",
      "Step 3: math: (1400000000 + 125000000)\n",
      "</Iteration 4>\n",
      "<Iteration 5>\n",
      "Collect:\n",
      "- Step 1: India population: 1400000000\n",
      "- Step 2: Japan population: 125000000\n",
      "- Step 3: Total population: 1525000000\n",
      "</Iteration 5>\n",
      "\n",
      "<Iteration 6>\n",
      "Answer:\n",
      "The total population of India and Japan is approximately 1.525 billion.\n"
     ]
    }
   ],
   "source": [
    "def agent_loop(query, system_prompt: str = \"\"):\n",
    "    my_agent = MyAgent(system=system_prompt)\n",
    "    available_tools = {\n",
    "        \"math\": math,\n",
    "        \"lookup_population\": lookup_population\n",
    "    }\n",
    "    current_prompt = query\n",
    "  \n",
    "    while \"ANSWER\" not in current_prompt:\n",
    "        llm_response = my_agent.complete(current_prompt)\n",
    "        print(llm_response)\n",
    "\n",
    "        if \"Answer:\" in llm_response:\n",
    "            break\n",
    "\n",
    "        elif \"Execute:\" in llm_response:\n",
    "            pattern = r\"Step\\s+\\d+:\\s*(\\w+):\\s*(.*)\"\n",
    "            match = re.search(pattern, llm_response)\n",
    "\n",
    "            if match:\n",
    "                chosen_tool = match.group(1)\n",
    "                arg = match.group(2)\n",
    "\n",
    "                if chosen_tool in available_tools:\n",
    "                    observation = available_tools[chosen_tool](arg)\n",
    "                    current_prompt = f\"Observation: {observation}\"\n",
    "\n",
    "                else:\n",
    "                    current_prompt = f\"Observation: Tool not available. Retry the action.\"\n",
    "\n",
    "        elif \"Plan:\" in llm_response or \"Collect:\" in llm_response:\n",
    "            current_prompt = \"\"\n",
    "\n",
    "\n",
    "agent_loop(\"What is the population of India plus the population of Japan?\", system_prompt)"
   ]
  },
  {
   "cell_type": "code",
   "execution_count": null,
   "id": "94ea03f4",
   "metadata": {},
   "outputs": [],
   "source": []
  }
 ],
 "metadata": {
  "kernelspec": {
   "display_name": ".venv",
   "language": "python",
   "name": "python3"
  },
  "language_info": {
   "codemirror_mode": {
    "name": "ipython",
    "version": 3
   },
   "file_extension": ".py",
   "mimetype": "text/x-python",
   "name": "python",
   "nbconvert_exporter": "python",
   "pygments_lexer": "ipython3",
   "version": "3.12.3"
  }
 },
 "nbformat": 4,
 "nbformat_minor": 5
}
