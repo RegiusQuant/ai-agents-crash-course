{
 "cells": [
  {
   "cell_type": "code",
   "execution_count": 1,
   "id": "71165c44",
   "metadata": {},
   "outputs": [],
   "source": [
    "import os\n",
    "\n",
    "from crewai import Agent, Crew, LLM, Process, Task\n",
    "from crewai.knowledge.source.string_knowledge_source import StringKnowledgeSource"
   ]
  },
  {
   "cell_type": "code",
   "execution_count": 2,
   "id": "7ea56b18",
   "metadata": {},
   "outputs": [
    {
     "name": "stdout",
     "output_type": "stream",
     "text": [
      "{'provider': 'openai', 'config': {'model': 'text-embedding-3-small', 'api_url': 'https://api.openai-proxy.org/v1', 'api_key': 'sk-7U3AHu7imOMlbaCry97z5akrvfkZPuoVxhpxST15wd8ObR4t'}}\n",
      "<chromadb.utils.embedding_functions.openai_embedding_function.OpenAIEmbeddingFunction object at 0x7cf6357e0ce0>\n",
      "\u001b[91m \n",
      "[2025-07-18 10:03:15][ERROR]: Failed to upsert documents: Connection error. in upsert.\u001b[00m\n",
      "\u001b[93m \n",
      "[2025-07-18 10:03:15][WARNING]: Failed to init knowledge: Connection error. in upsert.\u001b[00m\n"
     ]
    }
   ],
   "source": [
    "policy_text = \"\"\"\n",
    "Our return policy allows customers to return any product within 30 days of purchase. \n",
    "Refunds will be issued only if the item is unused and in original packaging.\n",
    "Customers must provide proof of purchase when requesting a return.\n",
    "\"\"\"\n",
    "return_policy_knowledge = StringKnowledgeSource(content=policy_text)\n",
    "\n",
    "llm = LLM(model=\"gpt-4o\")\n",
    "\n",
    "returns_agent = Agent(\n",
    "    role=\"Product Returns Assistant\",\n",
    "    goal=\"Answer customer questions about return policy accurately.\",\n",
    "    backstory=\"You work in customer service and specialize in returns, refunds, and policies.\",\n",
    "    allow_delegation=False,\n",
    "    llm=llm,\n",
    "    verbose=True\n",
    ")\n",
    "\n",
    "returns_task = Task(\n",
    "    description=\"Answer the customer question: {question}\",\n",
    "    expected_output=\"A concise and accurate answer.\",\n",
    "    agent=returns_agent\n",
    ")\n",
    "\n",
    "crew = Crew(\n",
    "    agents=[returns_agent],\n",
    "    tasks=[returns_task],\n",
    "    process=Process.sequential,\n",
    "    knowledge_sources=[return_policy_knowledge],\n",
    "    embedder={\n",
    "        \"provider\": \"openai\",\n",
    "        \"config\": {\n",
    "            \"model\": \"text-embedding-3-small\",\n",
    "            \"api_url\": \"https://api.openai-proxy.org/v1\",\n",
    "            \"api_key\": os.getenv(\"OPENAI_API_KEY\")\n",
    "        }\n",
    "    },\n",
    "    verbose=True\n",
    ")"
   ]
  },
  {
   "cell_type": "code",
   "execution_count": 5,
   "id": "06bc2ff0",
   "metadata": {},
   "outputs": [
    {
     "data": {
      "text/plain": [
       "[array([-0.01914393, -0.02529205, -0.00172117, ..., -0.02266867,\n",
       "         0.00564363, -0.01062804], shape=(1536,), dtype=float32)]"
      ]
     },
     "execution_count": 5,
     "metadata": {},
     "output_type": "execute_result"
    }
   ],
   "source": [
    "from chromadb.utils.embedding_functions.openai_embedding_function import OpenAIEmbeddingFunction\n",
    "\n",
    "func = OpenAIEmbeddingFunction(\n",
    "    api_key=os.getenv(\"OPENAI_API_KEY\"),\n",
    "    model_name=\"text-embedding-3-small\",\n",
    "    api_base=\"https://api.openai-proxy.org/v1\"\n",
    ")\n",
    "\n",
    "func(\"Hello, world!\")"
   ]
  },
  {
   "cell_type": "code",
   "execution_count": null,
   "id": "27b89677",
   "metadata": {},
   "outputs": [],
   "source": []
  }
 ],
 "metadata": {
  "kernelspec": {
   "display_name": ".venv",
   "language": "python",
   "name": "python3"
  },
  "language_info": {
   "codemirror_mode": {
    "name": "ipython",
    "version": 3
   },
   "file_extension": ".py",
   "mimetype": "text/x-python",
   "name": "python",
   "nbconvert_exporter": "python",
   "pygments_lexer": "ipython3",
   "version": "3.12.3"
  }
 },
 "nbformat": 4,
 "nbformat_minor": 5
}
